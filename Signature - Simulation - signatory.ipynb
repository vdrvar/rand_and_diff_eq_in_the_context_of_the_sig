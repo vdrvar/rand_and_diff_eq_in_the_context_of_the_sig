{
 "cells": [
  {
   "cell_type": "markdown",
   "id": "a39ddd65",
   "metadata": {},
   "source": [
    "# Various simulations related to the signature with the signatory library"
   ]
  },
  {
   "cell_type": "markdown",
   "id": "3fee601a",
   "metadata": {},
   "source": [
    "### Mechanism for Brownian Motion"
   ]
  },
  {
   "cell_type": "code",
   "execution_count": 3,
   "id": "b80b3ec7",
   "metadata": {},
   "outputs": [
    {
     "name": "stdout",
     "output_type": "stream",
     "text": [
      "Collecting torch==1.7.1\n",
      "  Downloading torch-1.7.1-cp39-cp39-win_amd64.whl (184.0 MB)\n",
      "     -------------------------------------- 184.0/184.0 MB 6.6 MB/s eta 0:00:00\n",
      "Collecting numpy\n",
      "  Downloading numpy-1.24.2-cp39-cp39-win_amd64.whl (14.9 MB)\n",
      "     ---------------------------------------- 14.9/14.9 MB 4.8 MB/s eta 0:00:00\n",
      "Collecting typing-extensions\n",
      "  Downloading typing_extensions-4.5.0-py3-none-any.whl (27 kB)\n",
      "Installing collected packages: typing-extensions, numpy, torch\n",
      "  Attempting uninstall: typing-extensions\n",
      "    Found existing installation: typing_extensions 4.5.0\n",
      "    Uninstalling typing_extensions-4.5.0:\n",
      "      Successfully uninstalled typing_extensions-4.5.0\n",
      "  Attempting uninstall: numpy\n",
      "    Found existing installation: numpy 1.24.2\n",
      "    Uninstalling numpy-1.24.2:\n",
      "      Successfully uninstalled numpy-1.24.2\n",
      "  Attempting uninstall: torch\n",
      "    Found existing installation: torch 1.7.1\n",
      "    Uninstalling torch-1.7.1:\n",
      "      Successfully uninstalled torch-1.7.1\n",
      "Successfully installed numpy-1.24.2 torch-1.7.1 typing-extensions-4.5.0\n",
      "Note: you may need to restart the kernel to use updated packages.\n"
     ]
    },
    {
     "name": "stderr",
     "output_type": "stream",
     "text": [
      "ERROR: pip's dependency resolver does not currently take into account all the packages that are installed. This behaviour is the source of the following dependency conflicts.\n",
      "daal4py 2021.6.0 requires daal==2021.4.0, which is not installed.\n",
      "numba 0.55.1 requires numpy<1.22,>=1.18, but you have numpy 1.24.2 which is incompatible.\n"
     ]
    }
   ],
   "source": [
    "pip install torch==1.7.1 --no-cache-dir --force-reinstall"
   ]
  },
  {
   "cell_type": "code",
   "execution_count": 4,
   "id": "b68f6a6c",
   "metadata": {},
   "outputs": [],
   "source": [
    "import torch"
   ]
  },
  {
   "cell_type": "code",
   "execution_count": 5,
   "id": "02642410",
   "metadata": {},
   "outputs": [
    {
     "name": "stdout",
     "output_type": "stream",
     "text": [
      "3.9.13\n"
     ]
    }
   ],
   "source": [
    "from platform import python_version\n",
    "\n",
    "print(python_version())"
   ]
  },
  {
   "cell_type": "code",
   "execution_count": 6,
   "id": "9032864a",
   "metadata": {},
   "outputs": [
    {
     "name": "stdout",
     "output_type": "stream",
     "text": [
      "1.7.1+cpu\n"
     ]
    }
   ],
   "source": [
    "print(torch.__version__)"
   ]
  },
  {
   "cell_type": "code",
   "execution_count": 7,
   "id": "4688f476",
   "metadata": {},
   "outputs": [
    {
     "name": "stdout",
     "output_type": "stream",
     "text": [
      "Requirement already satisfied: ninja in c:\\users\\vjeko\\anaconda3\\lib\\site-packages (1.11.1)Note: you may need to restart the kernel to use updated packages.\n",
      "\n"
     ]
    }
   ],
   "source": [
    "pip install ninja"
   ]
  },
  {
   "cell_type": "code",
   "execution_count": 9,
   "id": "75f9e1c1",
   "metadata": {},
   "outputs": [],
   "source": [
    "import ninja"
   ]
  },
  {
   "cell_type": "code",
   "execution_count": 10,
   "id": "ec9d3d1b",
   "metadata": {},
   "outputs": [
    {
     "name": "stdout",
     "output_type": "stream",
     "text": [
      "Collecting signatory==1.2.6.1.7.1\n",
      "  Downloading signatory-1.2.6.1.7.1.tar.gz (62 kB)\n",
      "     ---------------------------------------- 62.8/62.8 kB 1.7 MB/s eta 0:00:00\n",
      "  Preparing metadata (setup.py): started\n",
      "  Preparing metadata (setup.py): finished with status 'done'\n",
      "Building wheels for collected packages: signatory\n",
      "  Building wheel for signatory (setup.py): started\n",
      "  Building wheel for signatory (setup.py): finished with status 'done'\n",
      "  Created wheel for signatory: filename=signatory-1.2.6.1.7.1-cp39-cp39-win_amd64.whl size=191296 sha256=fc4621b6e077c1bfd243e3baeb554bbb653468d20e5a0c3407764fdc333bad7f\n",
      "  Stored in directory: C:\\Users\\vjeko\\AppData\\Local\\Temp\\pip-ephem-wheel-cache-z8hqaeuv\\wheels\\7f\\e8\\24\\06bc3e16e581c4f0059a12ac02bcb9bd11abe1a6afadcc9122\n",
      "Successfully built signatory\n",
      "Installing collected packages: signatory\n",
      "  Attempting uninstall: signatory\n",
      "    Found existing installation: signatory 1.2.6.1.9.0\n",
      "    Uninstalling signatory-1.2.6.1.9.0:\n",
      "      Successfully uninstalled signatory-1.2.6.1.9.0\n",
      "Successfully installed signatory-1.2.6.1.7.1\n",
      "Note: you may need to restart the kernel to use updated packages.\n"
     ]
    }
   ],
   "source": [
    "pip install signatory==1.2.6.1.7.1 --no-cache-dir --force-reinstall"
   ]
  },
  {
   "cell_type": "code",
   "execution_count": 11,
   "id": "c2297c13",
   "metadata": {},
   "outputs": [],
   "source": [
    "import signatory"
   ]
  },
  {
   "cell_type": "code",
   "execution_count": 12,
   "id": "7fbbb399",
   "metadata": {},
   "outputs": [],
   "source": [
    "batch, stream, channels = 1, 10, 2\n",
    "depth = 4\n",
    "path = torch.rand(batch, stream, channels)\n",
    "signature = signatory.signature(path, depth)\n",
    "# signature is a PyTorch tensor"
   ]
  },
  {
   "cell_type": "code",
   "execution_count": null,
   "id": "a41a6d24",
   "metadata": {},
   "outputs": [],
   "source": [
    "import matplotlib.pyplot as plt\n",
    "import numpy as np\n",
    "from sklearn.linear_model import LinearRegression\n",
    "from sklearn.linear_model import Ridge\n",
    "from sklearn.linear_model import Lasso"
   ]
  },
  {
   "cell_type": "code",
   "execution_count": null,
   "id": "bf412629",
   "metadata": {},
   "outputs": [],
   "source": [
    "class Brownian():\n",
    "    \"\"\"\n",
    "    A Brownian motion class constructor\n",
    "    \"\"\"\n",
    "    def __init__(self,x0=0):\n",
    "        \"\"\"\n",
    "        Init class\n",
    "        \"\"\"\n",
    "        assert (type(x0)==float or type(x0)==int or x0 is None), \"Expect a float or None for the initial value\"\n",
    "        \n",
    "        self.x0 = float(x0)\n",
    "    \n",
    "    def gen_random_walk(self,n_step=100):\n",
    "        \"\"\"\n",
    "        Generate motion by random walk\n",
    "        \n",
    "        Arguments:\n",
    "            n_step: Number of steps\n",
    "            \n",
    "        Returns:\n",
    "            A NumPy array with `n_steps` points\n",
    "        \"\"\"\n",
    "        # Warning about the small number of steps\n",
    "        if n_step < 30:\n",
    "            print(\"WARNING! The number of steps is small. It may not generate a good stochastic process sequence!\")\n",
    "        \n",
    "        w = np.ones(n_step)*self.x0\n",
    "        \n",
    "        for i in range(1,n_step):\n",
    "            # Sampling from the Normal distribution with probability 1/2\n",
    "            yi = np.random.choice([1,-1])\n",
    "            # Weiner process\n",
    "            w[i] = w[i-1]+(yi/np.sqrt(n_step))\n",
    "        \n",
    "        return w\n",
    "    \n",
    "    def gen_normal(self,n_step=100):\n",
    "        \"\"\"\n",
    "        Generate motion by drawing from the Normal distribution\n",
    "        \n",
    "        Arguments:\n",
    "            n_step: Number of steps\n",
    "            \n",
    "        Returns:\n",
    "            A NumPy array with `n_steps` points\n",
    "        \"\"\"\n",
    "        if n_step < 30:\n",
    "            print(\"WARNING! The number of steps is small. It may not generate a good stochastic process sequence!\")\n",
    "        \n",
    "        w = np.ones(n_step)*self.x0\n",
    "        \n",
    "        for i in range(1,n_step):\n",
    "            # Sampling from the Normal distribution\n",
    "            yi = np.random.normal()\n",
    "            # Weiner process\n",
    "            w[i] = w[i-1]+(yi/np.sqrt(n_step))\n",
    "        \n",
    "        return w"
   ]
  },
  {
   "cell_type": "code",
   "execution_count": null,
   "id": "07f9cf33",
   "metadata": {},
   "outputs": [],
   "source": [
    "b = Brownian()\n",
    "for i in range(4):\n",
    "    plt.plot(1*b.gen_normal(2000))\n",
    "\n",
    "plt.title(\"Some Brownians without a time frame\")\n",
    "plt.xlabel(\"$n$\")\n",
    "plt.ylabel(\"$B_i$\")\n",
    "plt.show()"
   ]
  },
  {
   "cell_type": "markdown",
   "id": "66ea504d",
   "metadata": {},
   "source": [
    "### Mechanism for random matrices and vectors"
   ]
  },
  {
   "cell_type": "code",
   "execution_count": null,
   "id": "4f83b264",
   "metadata": {},
   "outputs": [],
   "source": [
    "A = np.random.normal(0, 1, size=(3, 2, 4))\n",
    "v = np.random.normal(0, 1, size=(3))"
   ]
  },
  {
   "cell_type": "code",
   "execution_count": null,
   "id": "07b7c972",
   "metadata": {},
   "outputs": [],
   "source": [
    "A, v"
   ]
  },
  {
   "cell_type": "markdown",
   "id": "be68d702",
   "metadata": {},
   "source": [
    "### Time&step structure"
   ]
  },
  {
   "cell_type": "code",
   "execution_count": null,
   "id": "7df52ef3",
   "metadata": {},
   "outputs": [],
   "source": [
    "N = 101\n",
    "T = 1\n",
    "step = T/N\n",
    "x_axis = np.linspace(0, T, N)"
   ]
  },
  {
   "cell_type": "code",
   "execution_count": null,
   "id": "a742163b",
   "metadata": {},
   "outputs": [],
   "source": [
    "for i in range(4):\n",
    "    plt.plot(x_axis, b.gen_normal(101))\n",
    "plt.title(\"Some Brownians within time-frame\")\n",
    "plt.xlabel(\"$t$\")\n",
    "plt.ylabel(\"$B_t$\")\n",
    "plt.show()"
   ]
  },
  {
   "cell_type": "markdown",
   "id": "d20e3b63",
   "metadata": {},
   "source": [
    "## 1-Dimensional Stochastic Double Well"
   ]
  },
  {
   "cell_type": "markdown",
   "id": "a9989854",
   "metadata": {},
   "source": [
    "### Constructing the process"
   ]
  },
  {
   "cell_type": "code",
   "execution_count": null,
   "id": "18baccfc",
   "metadata": {},
   "outputs": [],
   "source": [
    "b = Brownian()\n",
    "\n",
    "theta, mu, sigma, y0 = 1, 2, 1, 1\n",
    "Y = np.zeros(N)\n",
    "Y[0] = y0\n",
    "brow = b.gen_normal(N+1)\n",
    "db =  np.diff(brow)"
   ]
  },
  {
   "cell_type": "code",
   "execution_count": null,
   "id": "05713e06",
   "metadata": {},
   "outputs": [],
   "source": [
    "for i in range(N-1):\n",
    "    Y[i+1] = Y[i] + theta * Y[i] * (mu - Y[i]*Y[i]) * step + sigma * db[i]"
   ]
  },
  {
   "cell_type": "code",
   "execution_count": null,
   "id": "22ecda66",
   "metadata": {},
   "outputs": [],
   "source": [
    "plt.plot(x_axis, Y)\n",
    "plt.title(\"Double Well process\")\n",
    "plt.xlabel(\"$t$\")\n",
    "plt.ylabel(\"$Y_t$\")\n",
    "plt.show()"
   ]
  },
  {
   "cell_type": "markdown",
   "id": "ef09e08f",
   "metadata": {},
   "source": [
    "### Calculating the true signature of the process"
   ]
  },
  {
   "cell_type": "code",
   "execution_count": null,
   "id": "b4ccd88e",
   "metadata": {},
   "outputs": [],
   "source": [
    "k = 10\n",
    "A = np.random.normal(0, 1, size=(k, k))\n",
    "b = np.random.normal(0, 1, size=k)\n",
    "dY = np.diff(Y)\n",
    "Z = np.zeros((N, k))\n",
    "Z[0][0] = 1"
   ]
  },
  {
   "cell_type": "code",
   "execution_count": null,
   "id": "b67b8185",
   "metadata": {},
   "outputs": [],
   "source": [
    "for i in range(N-1):\n",
    "    Z[i+1] = Z[i] + (A@Z[i] + b)*dY[i]"
   ]
  },
  {
   "cell_type": "code",
   "execution_count": null,
   "id": "a76f9547",
   "metadata": {},
   "outputs": [],
   "source": [
    "for i in range(3):\n",
    "    plt.plot(x_axis, Z[:,i])\n",
    "\n",
    "plt.title(\"Rand. signature of the Double Well process\")\n",
    "plt.xlabel(\"$t$\")\n",
    "plt.ylabel(\"$Z$\")\n",
    "plt.show()"
   ]
  },
  {
   "cell_type": "code",
   "execution_count": null,
   "id": "55260a54",
   "metadata": {},
   "outputs": [],
   "source": [
    "Z.shape"
   ]
  },
  {
   "cell_type": "markdown",
   "id": "52de3a23",
   "metadata": {},
   "source": [
    "### Training the linear, time-homogeneous readout - without regularization"
   ]
  },
  {
   "cell_type": "code",
   "execution_count": null,
   "id": "8d2623dc",
   "metadata": {},
   "outputs": [],
   "source": [
    "model1 = LinearRegression().fit(Z, Y)"
   ]
  },
  {
   "cell_type": "code",
   "execution_count": null,
   "id": "9a70ad87",
   "metadata": {},
   "outputs": [],
   "source": [
    "r_sq_1 = model1.score(Z, Y)\n",
    "print(f\"coefficient of determination: {r_sq_1}\")"
   ]
  },
  {
   "cell_type": "code",
   "execution_count": null,
   "id": "6ff72fe9",
   "metadata": {},
   "outputs": [],
   "source": [
    "print(f\"intercept: {model1.intercept_}\")"
   ]
  },
  {
   "cell_type": "code",
   "execution_count": null,
   "id": "7faa77b8",
   "metadata": {},
   "outputs": [],
   "source": [
    "print(f\"coefficients: {model1.coef_}\")"
   ]
  },
  {
   "cell_type": "code",
   "execution_count": null,
   "id": "df361622",
   "metadata": {},
   "outputs": [],
   "source": [
    "Y_pred_1 = model1.predict(Z)"
   ]
  },
  {
   "cell_type": "code",
   "execution_count": null,
   "id": "55a545ae",
   "metadata": {},
   "outputs": [],
   "source": [
    "plt.plot(x_axis, Y)\n",
    "plt.plot(x_axis, Y_pred_1, '--')\n",
    "plt.title(\"True process and reconstruction\")\n",
    "plt.xlabel(\"$t$\")\n",
    "plt.ylabel(\"$Y_t$ and $\\hat{Y}_t$\")\n",
    "plt.show()"
   ]
  },
  {
   "cell_type": "markdown",
   "id": "df49f0eb",
   "metadata": {},
   "source": [
    "### Training the linear, time-homogeneous readout - with regularization"
   ]
  },
  {
   "cell_type": "code",
   "execution_count": null,
   "id": "c623f7cc",
   "metadata": {},
   "outputs": [],
   "source": [
    "model2 = Lasso(alpha=0.10)\n",
    "model2.fit(Z, Y)"
   ]
  },
  {
   "cell_type": "code",
   "execution_count": null,
   "id": "0145b021",
   "metadata": {},
   "outputs": [],
   "source": [
    "r_sq_2 = model2.score(Z, Y)\n",
    "print(f\"coefficient of determination: {r_sq_2}\")"
   ]
  },
  {
   "cell_type": "code",
   "execution_count": null,
   "id": "8420032b",
   "metadata": {},
   "outputs": [],
   "source": [
    "print(f\"intercept: {model2.intercept_}\")"
   ]
  },
  {
   "cell_type": "code",
   "execution_count": null,
   "id": "442bf567",
   "metadata": {},
   "outputs": [],
   "source": [
    "print(f\"coefficients: {model2.coef_}\")"
   ]
  },
  {
   "cell_type": "code",
   "execution_count": null,
   "id": "2b007d65",
   "metadata": {},
   "outputs": [],
   "source": [
    "Y_pred_2 = model2.predict(Z)"
   ]
  },
  {
   "cell_type": "code",
   "execution_count": null,
   "id": "fafee1df",
   "metadata": {},
   "outputs": [],
   "source": [
    "plt.plot(x_axis, Y)\n",
    "plt.plot(x_axis, Y_pred_2, '--')\n",
    "plt.title(\"True process and reconstruction\")\n",
    "plt.xlabel(\"$t$\")\n",
    "plt.ylabel(\"$Y_t$ and $\\hat{Y}_t$\")\n",
    "plt.show()"
   ]
  },
  {
   "cell_type": "markdown",
   "id": "aaf6fd13",
   "metadata": {},
   "source": [
    "### Simulating n_sim times and testing out of sample with Gaussians"
   ]
  },
  {
   "cell_type": "code",
   "execution_count": null,
   "id": "b52f7700",
   "metadata": {},
   "outputs": [],
   "source": [
    "n_sim = 1000\n",
    "k = 15\n",
    "A = np.random.normal(0, 1, size=(k, k))\n",
    "b = np.random.normal(0, 1, size=k)\n",
    "Y_big = np.zeros(N*n_sim)\n",
    "Z_big = np.zeros((N*n_sim, k))\n",
    "Y_big[0:N,] = np.ones(N)\n",
    "Z_big[0:N,].shape"
   ]
  },
  {
   "cell_type": "code",
   "execution_count": null,
   "id": "d2fad800",
   "metadata": {},
   "outputs": [],
   "source": [
    "for iter in range(n_sim):\n",
    "\n",
    "    br = Brownian()\n",
    "    Y = np.zeros(N)\n",
    "    Y[0] = y0\n",
    "    brow = br.gen_normal(N+1)\n",
    "    db =  np.diff(brow)\n",
    "    for i in range(N-1):\n",
    "        Y[i+1] = Y[i] + theta * Y[i] * (mu - Y[i]*Y[i]) * step + sigma * db[i]\n",
    "    dY = np.diff(Y)\n",
    "    Z = np.zeros((N, k))\n",
    "    Z[0][0] = 1\n",
    "    for i in range(N-1):\n",
    "        Z[i+1] = Z[i] + (A@Z[i] + b)*dY[i]\n",
    "    Y_big[iter*N:(iter+1)*N] = Y\n",
    "    Z_big[iter*N:(iter+1)*N,:] = Z"
   ]
  },
  {
   "cell_type": "code",
   "execution_count": null,
   "id": "1dca2435",
   "metadata": {},
   "outputs": [],
   "source": [
    "model3 = Ridge(alpha=1.0)\n",
    "model3.fit(Z_big, Y_big)"
   ]
  },
  {
   "cell_type": "code",
   "execution_count": null,
   "id": "ffc8dabd",
   "metadata": {},
   "outputs": [],
   "source": [
    "r_sq_3 = model3.score(Z_big, Y_big)\n",
    "print(f\"coefficient of determination: {r_sq_3}\")"
   ]
  },
  {
   "cell_type": "code",
   "execution_count": null,
   "id": "f91c4cfe",
   "metadata": {},
   "outputs": [],
   "source": [
    "print(f\"intercept: {model3.intercept_}\")"
   ]
  },
  {
   "cell_type": "code",
   "execution_count": null,
   "id": "daddf76f",
   "metadata": {},
   "outputs": [],
   "source": [
    "print(f\"coefficients: {model3.coef_}\")"
   ]
  },
  {
   "cell_type": "code",
   "execution_count": null,
   "id": "e7e7f5da",
   "metadata": {},
   "outputs": [],
   "source": [
    "br = Brownian()\n",
    "Y = np.zeros(N)\n",
    "Y[0] = y0\n",
    "brow = br.gen_normal(N+1)\n",
    "db =  np.diff(brow)\n",
    "for i in range(N-1):\n",
    "    Y[i+1] = Y[i] + theta * Y[i] * (mu - Y[i]*Y[i]) * step + sigma * db[i]\n",
    "dY = np.diff(Y)\n",
    "Z = np.zeros((N, k))\n",
    "Z[0][0] = 1\n",
    "for i in range(N-1):\n",
    "    Z[i+1] = Z[i] + (A@Z[i] + b)*dY[i]"
   ]
  },
  {
   "cell_type": "code",
   "execution_count": null,
   "id": "73d4cf20",
   "metadata": {},
   "outputs": [],
   "source": [
    "Y_pred_3 = model3.predict(Z)"
   ]
  },
  {
   "cell_type": "code",
   "execution_count": null,
   "id": "bef6d194",
   "metadata": {},
   "outputs": [],
   "source": [
    "#Y_big[0:N]\n",
    "plt.plot(x_axis, Y)\n",
    "plt.plot(x_axis, Y_pred_3, '--')\n",
    "plt.title(\"True process and reconstruction\")\n",
    "plt.xlabel(\"$t$\")\n",
    "plt.ylabel(\"$Y_t$ and $\\hat{Y}_t$\")\n",
    "plt.show()"
   ]
  },
  {
   "cell_type": "markdown",
   "id": "0dbf53dc",
   "metadata": {},
   "source": [
    "### Simulating n_sim times and testing out of sample with Bernoullis"
   ]
  },
  {
   "cell_type": "code",
   "execution_count": null,
   "id": "9817d9d6",
   "metadata": {},
   "outputs": [],
   "source": [
    "n = 1\n",
    "p = 0.5"
   ]
  },
  {
   "cell_type": "code",
   "execution_count": null,
   "id": "c94729dd",
   "metadata": {},
   "outputs": [],
   "source": [
    "n_sim = 1000\n",
    "k = 15\n",
    "A = np.random.binomial(n, p, size=(k,k))*2 - 1\n",
    "b = np.random.binomial(n, p, size=k)*2 - 1\n",
    "Y_big = np.zeros(N*n_sim)\n",
    "Z_big = np.zeros((N*n_sim, k))\n",
    "Y_big[0:N,] = np.ones(N)\n",
    "Z_big[0:N,].shape"
   ]
  },
  {
   "cell_type": "code",
   "execution_count": null,
   "id": "2e04761b",
   "metadata": {},
   "outputs": [],
   "source": [
    "for iter in range(n_sim):\n",
    "\n",
    "    br = Brownian()\n",
    "    Y = np.zeros(N)\n",
    "    Y[0] = y0\n",
    "    brow = br.gen_normal(N+1)\n",
    "    db =  np.diff(brow)\n",
    "    for i in range(N-1):\n",
    "        Y[i+1] = Y[i] + theta * Y[i] * (mu - Y[i]*Y[i]) * step + sigma * db[i]\n",
    "    dY = np.diff(Y)\n",
    "    Z = np.zeros((N, k))\n",
    "    Z[0][0] = 1\n",
    "    for i in range(N-1):\n",
    "        Z[i+1] = Z[i] + (A@Z[i] + b)*dY[i]\n",
    "    Y_big[iter*N:(iter+1)*N] = Y\n",
    "    Z_big[iter*N:(iter+1)*N,:] = Z"
   ]
  },
  {
   "cell_type": "code",
   "execution_count": null,
   "id": "fed45836",
   "metadata": {},
   "outputs": [],
   "source": [
    "model4 = Ridge(alpha=1.0)\n",
    "model4.fit(Z_big, Y_big)"
   ]
  },
  {
   "cell_type": "code",
   "execution_count": null,
   "id": "f4c780ea",
   "metadata": {},
   "outputs": [],
   "source": [
    "r_sq_4 = model4.score(Z_big, Y_big)\n",
    "print(f\"coefficient of determination: {r_sq_4}\")"
   ]
  },
  {
   "cell_type": "code",
   "execution_count": null,
   "id": "1e97ff74",
   "metadata": {},
   "outputs": [],
   "source": [
    "print(f\"intercept: {model4.intercept_}\")"
   ]
  },
  {
   "cell_type": "code",
   "execution_count": null,
   "id": "fa98ab9b",
   "metadata": {},
   "outputs": [],
   "source": [
    "print(f\"coefficients: {model4.coef_}\")"
   ]
  },
  {
   "cell_type": "code",
   "execution_count": null,
   "id": "146c24e1",
   "metadata": {},
   "outputs": [],
   "source": [
    "br = Brownian()\n",
    "Y = np.zeros(N)\n",
    "Y[0] = y0\n",
    "brow = br.gen_normal(N+1)\n",
    "db =  np.diff(brow)\n",
    "for i in range(N-1):\n",
    "    Y[i+1] = Y[i] + theta * Y[i] * (mu - Y[i]*Y[i]) * step + sigma * db[i]\n",
    "dY = np.diff(Y)\n",
    "Z = np.zeros((N, k))\n",
    "Z[0][0] = 1\n",
    "for i in range(N-1):\n",
    "    Z[i+1] = Z[i] + (A@Z[i] + b)*dY[i]"
   ]
  },
  {
   "cell_type": "code",
   "execution_count": null,
   "id": "fe7692e9",
   "metadata": {},
   "outputs": [],
   "source": [
    "Y_pred_4 = model4.predict(Z)"
   ]
  },
  {
   "cell_type": "code",
   "execution_count": null,
   "id": "f3a31930",
   "metadata": {},
   "outputs": [],
   "source": [
    "#Y_big[0:N]\n",
    "plt.plot(x_axis, Y)\n",
    "plt.plot(x_axis, Y_pred_3, '--')\n",
    "plt.title(\"True process and reconstruction\")\n",
    "plt.xlabel(\"$t$\")\n",
    "plt.ylabel(\"$Y_t$ and $\\hat{Y}_t$\")\n",
    "plt.show()"
   ]
  },
  {
   "cell_type": "markdown",
   "id": "03990d13",
   "metadata": {},
   "source": [
    "## 4-Dimensional Ornstein–Uhlenbeck process"
   ]
  },
  {
   "cell_type": "markdown",
   "id": "62e70a15",
   "metadata": {},
   "source": [
    "### Constructing the process"
   ]
  },
  {
   "cell_type": "code",
   "execution_count": null,
   "id": "1ba8c972",
   "metadata": {},
   "outputs": [],
   "source": [
    "y0_4, mu_4 = np.array([1,1,1,1]), np.array([1,1,1,1])\n",
    "sigma_4 = np.array([[1,0,0,0], [0,1,0,0], [0,0,1,0], [0,0,0,1]])\n",
    "theta_4 = np.array([[1,1/2,1/3,1/4], [2,1,2/3,2/4], [3,3/2,1,3/4], [4,2,4/3,1]])\n",
    "Y_4 = np.zeros((N,4))\n",
    "Y_4[0] = y0\n",
    "brow_4 = np.zeros((N+1,4))\n",
    "#sigma_4 = theta_4"
   ]
  },
  {
   "cell_type": "code",
   "execution_count": null,
   "id": "fe9fdcf0",
   "metadata": {},
   "outputs": [],
   "source": [
    "b = Brownian()\n",
    "\n",
    "for i in range(4):\n",
    "    brow_4[:,i] = b.gen_normal(N+1)\n",
    "db_4 = np.diff(brow_4, axis = 0)"
   ]
  },
  {
   "cell_type": "code",
   "execution_count": null,
   "id": "60af7817",
   "metadata": {},
   "outputs": [],
   "source": [
    "for i in range(N-1):\n",
    "    Y_4[i+1] = Y_4[i] + (mu_4 - theta_4 @ Y_4[i]) * step + sigma_4 @ db_4[i]"
   ]
  },
  {
   "cell_type": "code",
   "execution_count": null,
   "id": "716808c6",
   "metadata": {},
   "outputs": [],
   "source": [
    "for i in range(4):\n",
    "    plt.plot(x_axis, Y_4[:,i])\n",
    "\n",
    "plt.title(\"4-Dimensional Ornstein–Uhlenbeck process\")\n",
    "plt.xlabel(\"$t$\")\n",
    "plt.ylabel(\"$Y_i$\")\n",
    "plt.show()"
   ]
  },
  {
   "cell_type": "markdown",
   "id": "fa2e244a",
   "metadata": {},
   "source": [
    "### Constructing the randomized signature"
   ]
  },
  {
   "cell_type": "code",
   "execution_count": null,
   "id": "e2676ac4",
   "metadata": {},
   "outputs": [],
   "source": [
    "k_4 = 10\n",
    "A_4 = np.random.normal(0, 1, size=(4, k_4, k_4))\n",
    "b_4 = np.random.normal(0, 1, size=(4,k_4))\n",
    "dY_4 = np.diff(Y_4, axis = 0)\n",
    "Z_4 = np.zeros((N, k_4))\n",
    "Z_4[0][0] = 1"
   ]
  },
  {
   "cell_type": "code",
   "execution_count": null,
   "id": "df063e17",
   "metadata": {},
   "outputs": [],
   "source": [
    "dY_4.shape"
   ]
  },
  {
   "cell_type": "code",
   "execution_count": null,
   "id": "5ef0dda0",
   "metadata": {},
   "outputs": [],
   "source": [
    "for i in range(N-1):\n",
    "    for j in range(4):\n",
    "        Z_4[i+1] = Z_4[i] + (A_4[j]@Z_4[i] + b_4[j])*dY_4[i][j]"
   ]
  },
  {
   "cell_type": "code",
   "execution_count": null,
   "id": "9de5b8c4",
   "metadata": {},
   "outputs": [],
   "source": [
    "for i in range(6):\n",
    "    plt.plot(x_axis, Z_4[:,i])\n",
    "\n",
    "plt.title(\"Rand. signature of the4-Dimensional Ornstein–Uhlenbeck process\")\n",
    "plt.xlabel(\"$t$\")\n",
    "plt.ylabel(\"$Z$\")\n",
    "plt.show()"
   ]
  },
  {
   "cell_type": "code",
   "execution_count": null,
   "id": "8bb73cdb",
   "metadata": {},
   "outputs": [],
   "source": []
  }
 ],
 "metadata": {
  "kernelspec": {
   "display_name": "Python 3 (ipykernel)",
   "language": "python",
   "name": "python3"
  },
  "language_info": {
   "codemirror_mode": {
    "name": "ipython",
    "version": 3
   },
   "file_extension": ".py",
   "mimetype": "text/x-python",
   "name": "python",
   "nbconvert_exporter": "python",
   "pygments_lexer": "ipython3",
   "version": "3.9.13"
  }
 },
 "nbformat": 4,
 "nbformat_minor": 5
}
